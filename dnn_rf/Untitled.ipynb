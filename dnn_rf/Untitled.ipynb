{
 "cells": [
  {
   "cell_type": "code",
   "execution_count": 1,
   "metadata": {},
   "outputs": [],
   "source": [
    "from tensorflow.python.platform import gfile\n",
    "import tensorflow as tf"
   ]
  },
  {
   "cell_type": "code",
   "execution_count": 7,
   "metadata": {},
   "outputs": [],
   "source": [
    "with tf.Session() as sess:\n",
    "...     with gfile.FastGFile(\"dnn_only.graph\",'rb') as f:\n",
    "...             graph_def = tf.GraphDef()\n",
    "...             graph_def.ParseFromString(f.read())\n",
    "...             sess.graph.as_default()\n",
    "...             tf.import_graph_def(graph_def, name='')\n",
    "    acc = sess.graph.get_tensor_by_name(\"accuracy:0\")"
   ]
  },
  {
   "cell_type": "code",
   "execution_count": 10,
   "metadata": {},
   "outputs": [],
   "source": [
    "from tensorflow.python.platform import gfile\n",
    "import tensorflow as tf\n",
    "sess = tf.Session()\n",
    "\n",
    "# load the graph and variables\n",
    "# saver = tf.train.import_meta_graph('rf/rf_graph.meta')\n",
    "# saver = tf.train.import_meta_graph('dnn/dnn_graph.meta')\n",
    "# saver = tf.train.import_meta_graph('dnn_only.graph')\n",
    "with gfile.FastGFile(\"dnn_only.graph\",'rb') as f:\n",
    "    graph_def = tf.GraphDef()\n",
    "    graph_def.ParseFromString(f.read())\n",
    "    sess.graph.as_default()\n",
    "    tf.import_graph_def(graph_def, name='')\n",
    "\n",
    "accuracy = sess.graph.get_tensor_by_name('accuracy:0')\n",
    "nbr_features_graph = sess.graph.get_tensor_by_name('nbr_features:0')\n",
    "# print sess.run(nbr_features_graph)\n",
    "#softmaxed_logits = graph.get_tensor_by_name('softmaxed_logits:0')\n",
    "x = sess.graph.get_tensor_by_name('x:0')\n",
    "y_ = sess.graph.get_tensor_by_name('y_:0')\n",
    "keep_prob = sess.graph.get_tensor_by_name('keep_prob:0')\n",
    "train_step = sess.graph.get_tensor_by_name('loss_optimizer:0')\n",
    "sess.close()"
   ]
  },
  {
   "cell_type": "code",
   "execution_count": null,
   "metadata": {},
   "outputs": [],
   "source": []
  }
 ],
 "metadata": {
  "kernelspec": {
   "display_name": "Python 2",
   "language": "python",
   "name": "python2"
  },
  "language_info": {
   "codemirror_mode": {
    "name": "ipython",
    "version": 2
   },
   "file_extension": ".py",
   "mimetype": "text/x-python",
   "name": "python",
   "nbconvert_exporter": "python",
   "pygments_lexer": "ipython2",
   "version": "2.7.10"
  }
 },
 "nbformat": 4,
 "nbformat_minor": 2
}
